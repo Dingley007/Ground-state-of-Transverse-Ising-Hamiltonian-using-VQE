{
 "cells": [
  {
   "cell_type": "markdown",
   "id": "7295d60d",
   "metadata": {},
   "source": [
    "## Challenge code\n",
    " \n",
    " In this challenge you will be given the following functions: \n",
    " - `create_Hamiltonian`: In which you build the Transverse Ising Hamiltonian for $N=4$ and a magnetic field intensity `h`. **You must complete this function.**\n",
    " - `model`: This QNode builds a general enough ansatz for the ground state. This circuit must depend on some parameters `params`, which you will later optimize. It returns the expectation value of the Hamiltonian for the output state of the circuit. **You must complete this function.**\n",
    " - `train`: This function returns the parameters that minimize the output of `model`. **You must complete this function.**\n",
    " \n",
    " ### Input\n",
    " \n",
    " As input to this problem, you are given:\n",
    " \n",
    " - `h` (`float`): Magnetic field intensity applied to the spin chain.\n",
    "  \n",
    " ### Output\n",
    " \n",
    " This code will output a `float` corresponding to the energy of the ground state.\n",
    " \n",
    " If your solution matches the correct one within the given tolerance specified in `check` (in this case it's an relative tolerance of `0.1`), the output will be `\"Correct!\"` Otherwise, you will receive a `\"Wrong answer\"` prompt.\n",
    " \n",
    " Good luck!\n",
    " ### Imports\n",
    " The cell below specifies the libraries you should use in this challenge. Run the cell to import the libraries. ***Do not modify the cell.***"
   ]
  },
  {
   "cell_type": "code",
   "execution_count": null,
   "id": "ec8a5952",
   "metadata": {},
   "outputs": [],
   "source": [
    "import json\n",
    "import pennylane as qml\n",
    "from pennylane import numpy as np"
   ]
  },
  {
   "cell_type": "markdown",
   "id": "c21dbdb8",
   "metadata": {},
   "source": [
    "### Code\n",
    " Complete the code below. Note that during QHack, some sections were not editable. We've marked those sections accordingly here, but you can still edit them if you wish."
   ]
  },
  {
   "cell_type": "code",
   "execution_count": null,
   "id": "a10e04b2",
   "metadata": {},
   "outputs": [],
   "source": [
    "# Uneditable section #\n",
    "def create_Hamiltonian(h):\n",
    "    \"\"\"\n",
    "    Function in charge of generating the Hamiltonian of the statement.\n",
    "\n",
    "    Args:\n",
    "        h (float): magnetic field strength\n",
    "\n",
    "    Returns:\n",
    "        (qml.Hamiltonian): Hamiltonian of the statement associated to h\n",
    "    \"\"\"\n",
    "    # End of uneditable section #\n",
    "\n",
    "    # Put your code here #\n",
    "\n",
    "\n",
    "# Uneditable section #\n",
    "dev = qml.device(\"default.qubit\", wires=4)\n",
    "\n",
    "@qml.qnode(dev)\n",
    "def model(params, H):\n",
    "    \"\"\"\n",
    "    To implement VQE you need an ansatz for the candidate ground state!\n",
    "    Define here the VQE ansatz in terms of some parameters (params) that\n",
    "    create the candidate ground state. These parameters will\n",
    "    be optimized later.\n",
    "\n",
    "    Args:\n",
    "        params (numpy.array): parameters to be used in the variational circuit\n",
    "        H (qml.Hamiltonian): Hamiltonian used to calculate the expected value\n",
    "\n",
    "    Returns:\n",
    "        (float): Expected value with respect to the Hamiltonian H\n",
    "    \"\"\"\n",
    "\n",
    "    # End of uneditable section #\n",
    "\n",
    "    # Put your code here #\n",
    "\n",
    "\n",
    "# Uneditable section #\n",
    "def train(h):\n",
    "    \"\"\"\n",
    "    In this function you must design a subroutine that returns the\n",
    "    parameters that best approximate the ground state.\n",
    "\n",
    "    Args:\n",
    "        h (float): magnetic field strength\n",
    "\n",
    "    Returns:\n",
    "        (numpy.array): parameters that best approximate the ground state.\n",
    "    \"\"\"\n",
    "\n",
    "    # End of uneditable section #\n",
    "\n",
    "    # Put your code here #"
   ]
  },
  {
   "cell_type": "markdown",
   "id": "2ce486e4",
   "metadata": {},
   "source": [
    "These functions are responsible for testing the solution. You will need to run the cell below. ***Do not modify the cell.***"
   ]
  },
  {
   "cell_type": "code",
   "execution_count": null,
   "id": "8a3c9407",
   "metadata": {},
   "outputs": [],
   "source": [
    "def run(test_case_input: str) -> str:\n",
    "    ins = json.loads(test_case_input)\n",
    "    params = train(ins)\n",
    "    return str(model(params, create_Hamiltonian(ins)))\n",
    "\n",
    "\n",
    "def check(solution_output: str, expected_output: str) -> None:\n",
    "    solution_output = json.loads(solution_output)\n",
    "    expected_output = json.loads(expected_output)\n",
    "    assert np.allclose(\n",
    "        solution_output, expected_output, rtol=1e-1\n",
    "    ), \"The expected value is not correct.\""
   ]
  },
  {
   "cell_type": "markdown",
   "id": "4c802c31",
   "metadata": {},
   "source": [
    "### Test cases\n",
    " Running the cell below will load the test cases. ***Do not modify the cell***.\n",
    " - input: 1.0\n",
    " \t+ expected output: -5.226251859505506\n",
    " - input: 2.3\n",
    " \t+ expected output: -9.66382463698038\n",
    " - input: 0.5\n",
    " \t+ expected output: -4.271558410139714\n",
    " - input: 1.5\n",
    " \t+ expected output: -6.760008550556145"
   ]
  },
  {
   "cell_type": "code",
   "execution_count": null,
   "id": "c7de27f7",
   "metadata": {},
   "outputs": [],
   "source": [
    "test_cases = [['1.0', '-5.226251859505506'], ['2.3', '-9.66382463698038'], ['0.5', '-4.271558410139714'], ['1.5', '-6.760008550556145']]"
   ]
  },
  {
   "cell_type": "markdown",
   "id": "d534fd42",
   "metadata": {},
   "source": [
    "### Solution testing\n",
    " Once you have run every cell above, including the one with your code, the cell below will test your solution. Run the cell. If you are correct for all of the test cases, it means your solutions is correct. Otherwise, you need to double check your work. ***Do not modify the cell below.***"
   ]
  },
  {
   "cell_type": "code",
   "execution_count": null,
   "id": "f5326c8c",
   "metadata": {},
   "outputs": [],
   "source": [
    "for i, (input_, expected_output) in enumerate(test_cases):\n",
    "    print(f\"Running test case {i} with input '{input_}'...\")\n",
    "\n",
    "    try:\n",
    "        output = run(input_)\n",
    "\n",
    "    except Exception as exc:\n",
    "        print(f\"Runtime Error. {exc}\")\n",
    "\n",
    "    else:\n",
    "        if message := check(output, expected_output):\n",
    "            print(f\"Wrong Answer. Have: '{output}'. Want: '{expected_output}'.\")\n",
    "\n",
    "        else:\n",
    "            print(\"Correct!\")"
   ]
  }
 ],
 "metadata": {},
 "nbformat": 4,
 "nbformat_minor": 5
}
